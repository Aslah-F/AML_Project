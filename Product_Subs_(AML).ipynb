{
  "nbformat": 4,
  "nbformat_minor": 0,
  "metadata": {
    "colab": {
      "provenance": []
    },
    "kernelspec": {
      "name": "python3",
      "display_name": "Python 3"
    },
    "language_info": {
      "name": "python"
    }
  },
  "cells": [
    {
      "cell_type": "markdown",
      "source": [
        "# Preprocessing and refining the data"
      ],
      "metadata": {
        "id": "0mEPgG7sRrK0"
      }
    },
    {
      "cell_type": "code",
      "execution_count": 151,
      "metadata": {
        "id": "gcPI4AYyHFhj"
      },
      "outputs": [],
      "source": [
        "import pandas as pd\n",
        "\n",
        "df = pd.read_csv('/content/marketing_sample_for_amazon_com-ecommerce__20200101_20200131__10k_data.csv')\n",
        "df = df.dropna(subset=['Category', 'About Product'])\n",
        "df.to_csv('data_cleaned.csv', index=False)"
      ]
    },
    {
      "cell_type": "code",
      "source": [
        "df[['Uniq Id','Product Name','Category','About Product']]"
      ],
      "metadata": {
        "colab": {
          "base_uri": "https://localhost:8080/",
          "height": 424
        },
        "id": "cAJGuTE1GCJ7",
        "outputId": "ba444ad6-b91e-4bca-8b53-220ffdd909e9"
      },
      "execution_count": 152,
      "outputs": [
        {
          "output_type": "execute_result",
          "data": {
            "text/plain": [
              "                                Uniq Id  \\\n",
              "0      4c69b61db1fc16e7013b43fc926e502d   \n",
              "1      66d49bbed043f5be260fa9f7fbff5957   \n",
              "2      2c55cae269aebf53838484b0d7dd931a   \n",
              "3      18018b6bc416dab347b1b7db79994afa   \n",
              "4      e04b990e95bf73bbe6a3fa09785d7cd0   \n",
              "...                                 ...   \n",
              "9995   ec8506d9915fb21052be5a529e32f61e   \n",
              "9996   0678767f2ff24c5c2330ed0d4456c199   \n",
              "9998   e11514dcf1f087887cd5ea0bd646d1fc   \n",
              "9999   c00301a38560da2abc89c1f86ce4b267   \n",
              "10001  2bb94aefc3467ed83860e0e2712d5f10   \n",
              "\n",
              "                                            Product Name  \\\n",
              "0      DB Longboards CoreFlex Crossbow 41\" Bamboo Fib...   \n",
              "1      Electronic Snap Circuits Mini Kits Classpack, ...   \n",
              "2      3Doodler Create Flexy 3D Printing Filament Ref...   \n",
              "3      Guillow Airplane Design Studio with Travel Cas...   \n",
              "4                       Woodstock- Collage 500 pc Puzzle   \n",
              "...                                                  ...   \n",
              "9995   Cozy Line Home Fashions Size 2 Piece Ocean Cre...   \n",
              "9996                LEGO 8-Brick Storage Box, Bright Red   \n",
              "9998   Trends International NFL La Chargers HG - Mobi...   \n",
              "9999   NewPath Learning 10 Piece Science Owls and Owl...   \n",
              "10001        Hasegawa Ladders Lucano Step Ladder, Orange   \n",
              "\n",
              "                                                Category  \\\n",
              "0      Sports & Outdoors | Outdoor Recreation | Skate...   \n",
              "1      Toys & Games | Learning & Education | Science ...   \n",
              "2              Toys & Games | Arts & Crafts | Craft Kits   \n",
              "3      Toys & Games | Hobbies | Models & Model Kits |...   \n",
              "4                Toys & Games | Puzzles | Jigsaw Puzzles   \n",
              "...                                                  ...   \n",
              "9995   Home & Kitchen | Bedding | Kids' Bedding | Qui...   \n",
              "9996                        Toys & Games | Building Toys   \n",
              "9998                        Toys & Games | Arts & Crafts   \n",
              "9999   Office Products | Office & School Supplies | E...   \n",
              "10001  Home & Kitchen | Furniture | Kids' Furniture |...   \n",
              "\n",
              "                                           About Product  \n",
              "0      Make sure this fits by entering your model num...  \n",
              "1      Make sure this fits by entering your model num...  \n",
              "2      Make sure this fits by entering your model num...  \n",
              "3      Make 8 different Planes at one time. | Experim...  \n",
              "4      Make sure this fits by entering your model num...  \n",
              "...                                                  ...  \n",
              "9995   Make sure this fits by entering your model num...  \n",
              "9996   Make sure this fits by entering your model num...  \n",
              "9998   Make sure this fits by entering your model num...  \n",
              "9999   Make sure this fits by entering your model num...  \n",
              "10001  Make sure this fits by entering your model num...  \n",
              "\n",
              "[8920 rows x 4 columns]"
            ],
            "text/html": [
              "\n",
              "  <div id=\"df-d781b3e7-7721-4ab2-bd75-219bc5cf8ac2\" class=\"colab-df-container\">\n",
              "    <div>\n",
              "<style scoped>\n",
              "    .dataframe tbody tr th:only-of-type {\n",
              "        vertical-align: middle;\n",
              "    }\n",
              "\n",
              "    .dataframe tbody tr th {\n",
              "        vertical-align: top;\n",
              "    }\n",
              "\n",
              "    .dataframe thead th {\n",
              "        text-align: right;\n",
              "    }\n",
              "</style>\n",
              "<table border=\"1\" class=\"dataframe\">\n",
              "  <thead>\n",
              "    <tr style=\"text-align: right;\">\n",
              "      <th></th>\n",
              "      <th>Uniq Id</th>\n",
              "      <th>Product Name</th>\n",
              "      <th>Category</th>\n",
              "      <th>About Product</th>\n",
              "    </tr>\n",
              "  </thead>\n",
              "  <tbody>\n",
              "    <tr>\n",
              "      <th>0</th>\n",
              "      <td>4c69b61db1fc16e7013b43fc926e502d</td>\n",
              "      <td>DB Longboards CoreFlex Crossbow 41\" Bamboo Fib...</td>\n",
              "      <td>Sports &amp; Outdoors | Outdoor Recreation | Skate...</td>\n",
              "      <td>Make sure this fits by entering your model num...</td>\n",
              "    </tr>\n",
              "    <tr>\n",
              "      <th>1</th>\n",
              "      <td>66d49bbed043f5be260fa9f7fbff5957</td>\n",
              "      <td>Electronic Snap Circuits Mini Kits Classpack, ...</td>\n",
              "      <td>Toys &amp; Games | Learning &amp; Education | Science ...</td>\n",
              "      <td>Make sure this fits by entering your model num...</td>\n",
              "    </tr>\n",
              "    <tr>\n",
              "      <th>2</th>\n",
              "      <td>2c55cae269aebf53838484b0d7dd931a</td>\n",
              "      <td>3Doodler Create Flexy 3D Printing Filament Ref...</td>\n",
              "      <td>Toys &amp; Games | Arts &amp; Crafts | Craft Kits</td>\n",
              "      <td>Make sure this fits by entering your model num...</td>\n",
              "    </tr>\n",
              "    <tr>\n",
              "      <th>3</th>\n",
              "      <td>18018b6bc416dab347b1b7db79994afa</td>\n",
              "      <td>Guillow Airplane Design Studio with Travel Cas...</td>\n",
              "      <td>Toys &amp; Games | Hobbies | Models &amp; Model Kits |...</td>\n",
              "      <td>Make 8 different Planes at one time. | Experim...</td>\n",
              "    </tr>\n",
              "    <tr>\n",
              "      <th>4</th>\n",
              "      <td>e04b990e95bf73bbe6a3fa09785d7cd0</td>\n",
              "      <td>Woodstock- Collage 500 pc Puzzle</td>\n",
              "      <td>Toys &amp; Games | Puzzles | Jigsaw Puzzles</td>\n",
              "      <td>Make sure this fits by entering your model num...</td>\n",
              "    </tr>\n",
              "    <tr>\n",
              "      <th>...</th>\n",
              "      <td>...</td>\n",
              "      <td>...</td>\n",
              "      <td>...</td>\n",
              "      <td>...</td>\n",
              "    </tr>\n",
              "    <tr>\n",
              "      <th>9995</th>\n",
              "      <td>ec8506d9915fb21052be5a529e32f61e</td>\n",
              "      <td>Cozy Line Home Fashions Size 2 Piece Ocean Cre...</td>\n",
              "      <td>Home &amp; Kitchen | Bedding | Kids' Bedding | Qui...</td>\n",
              "      <td>Make sure this fits by entering your model num...</td>\n",
              "    </tr>\n",
              "    <tr>\n",
              "      <th>9996</th>\n",
              "      <td>0678767f2ff24c5c2330ed0d4456c199</td>\n",
              "      <td>LEGO 8-Brick Storage Box, Bright Red</td>\n",
              "      <td>Toys &amp; Games | Building Toys</td>\n",
              "      <td>Make sure this fits by entering your model num...</td>\n",
              "    </tr>\n",
              "    <tr>\n",
              "      <th>9998</th>\n",
              "      <td>e11514dcf1f087887cd5ea0bd646d1fc</td>\n",
              "      <td>Trends International NFL La Chargers HG - Mobi...</td>\n",
              "      <td>Toys &amp; Games | Arts &amp; Crafts</td>\n",
              "      <td>Make sure this fits by entering your model num...</td>\n",
              "    </tr>\n",
              "    <tr>\n",
              "      <th>9999</th>\n",
              "      <td>c00301a38560da2abc89c1f86ce4b267</td>\n",
              "      <td>NewPath Learning 10 Piece Science Owls and Owl...</td>\n",
              "      <td>Office Products | Office &amp; School Supplies | E...</td>\n",
              "      <td>Make sure this fits by entering your model num...</td>\n",
              "    </tr>\n",
              "    <tr>\n",
              "      <th>10001</th>\n",
              "      <td>2bb94aefc3467ed83860e0e2712d5f10</td>\n",
              "      <td>Hasegawa Ladders Lucano Step Ladder, Orange</td>\n",
              "      <td>Home &amp; Kitchen | Furniture | Kids' Furniture |...</td>\n",
              "      <td>Make sure this fits by entering your model num...</td>\n",
              "    </tr>\n",
              "  </tbody>\n",
              "</table>\n",
              "<p>8920 rows × 4 columns</p>\n",
              "</div>\n",
              "    <div class=\"colab-df-buttons\">\n",
              "\n",
              "  <div class=\"colab-df-container\">\n",
              "    <button class=\"colab-df-convert\" onclick=\"convertToInteractive('df-d781b3e7-7721-4ab2-bd75-219bc5cf8ac2')\"\n",
              "            title=\"Convert this dataframe to an interactive table.\"\n",
              "            style=\"display:none;\">\n",
              "\n",
              "  <svg xmlns=\"http://www.w3.org/2000/svg\" height=\"24px\" viewBox=\"0 -960 960 960\">\n",
              "    <path d=\"M120-120v-720h720v720H120Zm60-500h600v-160H180v160Zm220 220h160v-160H400v160Zm0 220h160v-160H400v160ZM180-400h160v-160H180v160Zm440 0h160v-160H620v160ZM180-180h160v-160H180v160Zm440 0h160v-160H620v160Z\"/>\n",
              "  </svg>\n",
              "    </button>\n",
              "\n",
              "  <style>\n",
              "    .colab-df-container {\n",
              "      display:flex;\n",
              "      gap: 12px;\n",
              "    }\n",
              "\n",
              "    .colab-df-convert {\n",
              "      background-color: #E8F0FE;\n",
              "      border: none;\n",
              "      border-radius: 50%;\n",
              "      cursor: pointer;\n",
              "      display: none;\n",
              "      fill: #1967D2;\n",
              "      height: 32px;\n",
              "      padding: 0 0 0 0;\n",
              "      width: 32px;\n",
              "    }\n",
              "\n",
              "    .colab-df-convert:hover {\n",
              "      background-color: #E2EBFA;\n",
              "      box-shadow: 0px 1px 2px rgba(60, 64, 67, 0.3), 0px 1px 3px 1px rgba(60, 64, 67, 0.15);\n",
              "      fill: #174EA6;\n",
              "    }\n",
              "\n",
              "    .colab-df-buttons div {\n",
              "      margin-bottom: 4px;\n",
              "    }\n",
              "\n",
              "    [theme=dark] .colab-df-convert {\n",
              "      background-color: #3B4455;\n",
              "      fill: #D2E3FC;\n",
              "    }\n",
              "\n",
              "    [theme=dark] .colab-df-convert:hover {\n",
              "      background-color: #434B5C;\n",
              "      box-shadow: 0px 1px 3px 1px rgba(0, 0, 0, 0.15);\n",
              "      filter: drop-shadow(0px 1px 2px rgba(0, 0, 0, 0.3));\n",
              "      fill: #FFFFFF;\n",
              "    }\n",
              "  </style>\n",
              "\n",
              "    <script>\n",
              "      const buttonEl =\n",
              "        document.querySelector('#df-d781b3e7-7721-4ab2-bd75-219bc5cf8ac2 button.colab-df-convert');\n",
              "      buttonEl.style.display =\n",
              "        google.colab.kernel.accessAllowed ? 'block' : 'none';\n",
              "\n",
              "      async function convertToInteractive(key) {\n",
              "        const element = document.querySelector('#df-d781b3e7-7721-4ab2-bd75-219bc5cf8ac2');\n",
              "        const dataTable =\n",
              "          await google.colab.kernel.invokeFunction('convertToInteractive',\n",
              "                                                    [key], {});\n",
              "        if (!dataTable) return;\n",
              "\n",
              "        const docLinkHtml = 'Like what you see? Visit the ' +\n",
              "          '<a target=\"_blank\" href=https://colab.research.google.com/notebooks/data_table.ipynb>data table notebook</a>'\n",
              "          + ' to learn more about interactive tables.';\n",
              "        element.innerHTML = '';\n",
              "        dataTable['output_type'] = 'display_data';\n",
              "        await google.colab.output.renderOutput(dataTable, element);\n",
              "        const docLink = document.createElement('div');\n",
              "        docLink.innerHTML = docLinkHtml;\n",
              "        element.appendChild(docLink);\n",
              "      }\n",
              "    </script>\n",
              "  </div>\n",
              "\n",
              "\n",
              "<div id=\"df-4d246f6c-0e86-4360-8dd4-bcf3b5aa3e5d\">\n",
              "  <button class=\"colab-df-quickchart\" onclick=\"quickchart('df-4d246f6c-0e86-4360-8dd4-bcf3b5aa3e5d')\"\n",
              "            title=\"Suggest charts\"\n",
              "            style=\"display:none;\">\n",
              "\n",
              "<svg xmlns=\"http://www.w3.org/2000/svg\" height=\"24px\"viewBox=\"0 0 24 24\"\n",
              "     width=\"24px\">\n",
              "    <g>\n",
              "        <path d=\"M19 3H5c-1.1 0-2 .9-2 2v14c0 1.1.9 2 2 2h14c1.1 0 2-.9 2-2V5c0-1.1-.9-2-2-2zM9 17H7v-7h2v7zm4 0h-2V7h2v10zm4 0h-2v-4h2v4z\"/>\n",
              "    </g>\n",
              "</svg>\n",
              "  </button>\n",
              "\n",
              "<style>\n",
              "  .colab-df-quickchart {\n",
              "      --bg-color: #E8F0FE;\n",
              "      --fill-color: #1967D2;\n",
              "      --hover-bg-color: #E2EBFA;\n",
              "      --hover-fill-color: #174EA6;\n",
              "      --disabled-fill-color: #AAA;\n",
              "      --disabled-bg-color: #DDD;\n",
              "  }\n",
              "\n",
              "  [theme=dark] .colab-df-quickchart {\n",
              "      --bg-color: #3B4455;\n",
              "      --fill-color: #D2E3FC;\n",
              "      --hover-bg-color: #434B5C;\n",
              "      --hover-fill-color: #FFFFFF;\n",
              "      --disabled-bg-color: #3B4455;\n",
              "      --disabled-fill-color: #666;\n",
              "  }\n",
              "\n",
              "  .colab-df-quickchart {\n",
              "    background-color: var(--bg-color);\n",
              "    border: none;\n",
              "    border-radius: 50%;\n",
              "    cursor: pointer;\n",
              "    display: none;\n",
              "    fill: var(--fill-color);\n",
              "    height: 32px;\n",
              "    padding: 0;\n",
              "    width: 32px;\n",
              "  }\n",
              "\n",
              "  .colab-df-quickchart:hover {\n",
              "    background-color: var(--hover-bg-color);\n",
              "    box-shadow: 0 1px 2px rgba(60, 64, 67, 0.3), 0 1px 3px 1px rgba(60, 64, 67, 0.15);\n",
              "    fill: var(--button-hover-fill-color);\n",
              "  }\n",
              "\n",
              "  .colab-df-quickchart-complete:disabled,\n",
              "  .colab-df-quickchart-complete:disabled:hover {\n",
              "    background-color: var(--disabled-bg-color);\n",
              "    fill: var(--disabled-fill-color);\n",
              "    box-shadow: none;\n",
              "  }\n",
              "\n",
              "  .colab-df-spinner {\n",
              "    border: 2px solid var(--fill-color);\n",
              "    border-color: transparent;\n",
              "    border-bottom-color: var(--fill-color);\n",
              "    animation:\n",
              "      spin 1s steps(1) infinite;\n",
              "  }\n",
              "\n",
              "  @keyframes spin {\n",
              "    0% {\n",
              "      border-color: transparent;\n",
              "      border-bottom-color: var(--fill-color);\n",
              "      border-left-color: var(--fill-color);\n",
              "    }\n",
              "    20% {\n",
              "      border-color: transparent;\n",
              "      border-left-color: var(--fill-color);\n",
              "      border-top-color: var(--fill-color);\n",
              "    }\n",
              "    30% {\n",
              "      border-color: transparent;\n",
              "      border-left-color: var(--fill-color);\n",
              "      border-top-color: var(--fill-color);\n",
              "      border-right-color: var(--fill-color);\n",
              "    }\n",
              "    40% {\n",
              "      border-color: transparent;\n",
              "      border-right-color: var(--fill-color);\n",
              "      border-top-color: var(--fill-color);\n",
              "    }\n",
              "    60% {\n",
              "      border-color: transparent;\n",
              "      border-right-color: var(--fill-color);\n",
              "    }\n",
              "    80% {\n",
              "      border-color: transparent;\n",
              "      border-right-color: var(--fill-color);\n",
              "      border-bottom-color: var(--fill-color);\n",
              "    }\n",
              "    90% {\n",
              "      border-color: transparent;\n",
              "      border-bottom-color: var(--fill-color);\n",
              "    }\n",
              "  }\n",
              "</style>\n",
              "\n",
              "  <script>\n",
              "    async function quickchart(key) {\n",
              "      const quickchartButtonEl =\n",
              "        document.querySelector('#' + key + ' button');\n",
              "      quickchartButtonEl.disabled = true;  // To prevent multiple clicks.\n",
              "      quickchartButtonEl.classList.add('colab-df-spinner');\n",
              "      try {\n",
              "        const charts = await google.colab.kernel.invokeFunction(\n",
              "            'suggestCharts', [key], {});\n",
              "      } catch (error) {\n",
              "        console.error('Error during call to suggestCharts:', error);\n",
              "      }\n",
              "      quickchartButtonEl.classList.remove('colab-df-spinner');\n",
              "      quickchartButtonEl.classList.add('colab-df-quickchart-complete');\n",
              "    }\n",
              "    (() => {\n",
              "      let quickchartButtonEl =\n",
              "        document.querySelector('#df-4d246f6c-0e86-4360-8dd4-bcf3b5aa3e5d button');\n",
              "      quickchartButtonEl.style.display =\n",
              "        google.colab.kernel.accessAllowed ? 'block' : 'none';\n",
              "    })();\n",
              "  </script>\n",
              "</div>\n",
              "\n",
              "    </div>\n",
              "  </div>\n"
            ],
            "application/vnd.google.colaboratory.intrinsic+json": {
              "type": "dataframe",
              "summary": "{\n  \"name\": \"df[['Uniq Id','Product Name','Category','About Product']]\",\n  \"rows\": 8920,\n  \"fields\": [\n    {\n      \"column\": \"Uniq Id\",\n      \"properties\": {\n        \"dtype\": \"string\",\n        \"num_unique_values\": 8920,\n        \"samples\": [\n          \"88c0367a0d6029e6ebd55fa1d29bf6d9\",\n          \"f082df78b1a1f19fb6502fee338fb903\",\n          \"c3d534c46994e4ce309434a52022b8cf\"\n        ],\n        \"semantic_type\": \"\",\n        \"description\": \"\"\n      }\n    },\n    {\n      \"column\": \"Product Name\",\n      \"properties\": {\n        \"dtype\": \"string\",\n        \"num_unique_values\": 8854,\n        \"samples\": [\n          \"Wild Republic Red Panda Plush, Stuffed Animal, Plush Toy, Kids Gifts, Zoo, 15\\\"\",\n          \"Creative Converting 553269 Party Supplies Multicolor\",\n          \"Bright Starts Rattle & Shake Barbell Toy, Ages 3 months +\"\n        ],\n        \"semantic_type\": \"\",\n        \"description\": \"\"\n      }\n    },\n    {\n      \"column\": \"Category\",\n      \"properties\": {\n        \"dtype\": \"category\",\n        \"num_unique_values\": 923,\n        \"samples\": [\n          \"Sports & Outdoors | Outdoor Recreation | Skates, Skateboards & Scooters | Scooters & Equipment | Accessories\",\n          \"Sports & Outdoors | Sports & Fitness | Accessories | Field, Court & Rink Equipment | Basketball Court Equipment | Basketball Hoops & Goals | In-Ground\",\n          \"Toys & Games | Dolls & Accessories | Doll Accessories\"\n        ],\n        \"semantic_type\": \"\",\n        \"description\": \"\"\n      }\n    },\n    {\n      \"column\": \"About Product\",\n      \"properties\": {\n        \"dtype\": \"string\",\n        \"num_unique_values\": 8312,\n        \"samples\": [\n          \"Make sure this fits by entering your model number. | 100% Polyester | Imported | NOTE: Costume sizes are different from clothing sizes; review the Rubie's size chart when selecting a size and consider buying the next size up if you are at the top of a size range | Dress with attached leggings and printed belt | DC Superhero costumes officially licensed by DC Comics | Rubie's offers a wide range of DC Superhero costumes in sizes, styles, and prices for the entire family | Create your own Superhero group with help from Rubie's\",\n          \"Make sure this fits by entering your model number. | Brand new box. Real rubber tires. Has opening doors. Detailed interior, exterior. Made of diecast with some plastic parts. Dimensions approximately L-11, W-3.5, H-5.25 inches. | Gender : Unisex\",\n          \"Accurate model sailboat replica of the yacht Handcrafted from scratch by our master artisans | Wooden hull and deck parts built from rare, high-quality woods masterfully stitched sails with extensive rigging | Pre-assembled, simply attach the masts and display Ready to display in less than five minutes | Shop Amazon for all Hampton Nautical products Over 3000 unique nautical items available | Buy factory direct All items designed and manufactured by us Hampton Nautical\"\n        ],\n        \"semantic_type\": \"\",\n        \"description\": \"\"\n      }\n    }\n  ]\n}"
            }
          },
          "metadata": {},
          "execution_count": 152
        }
      ]
    },
    {
      "cell_type": "code",
      "source": [
        "cats = list(df['Category'])\n",
        "u_cats = []\n",
        "for cat in cats:\n",
        "    temps = cat.split(' | ')\n",
        "    u_cats += [temp for temp in temps if temp not in u_cats]\n",
        "\n",
        "print(len(u_cats))"
      ],
      "metadata": {
        "colab": {
          "base_uri": "https://localhost:8080/"
        },
        "id": "C_ryUZQXR2IT",
        "outputId": "5b7cd83f-3b9f-4ade-8027-66358cb561e8"
      },
      "execution_count": 153,
      "outputs": [
        {
          "output_type": "stream",
          "name": "stdout",
          "text": [
            "1151\n"
          ]
        }
      ]
    },
    {
      "cell_type": "code",
      "source": [
        "def cat_vec(s):\n",
        "    s = s.split(' | ')\n",
        "    return ' '.join([str(u_cats.index(i)) for i in s])\n",
        "\n",
        "cat_df = df[['Uniq Id', 'Category']]\n",
        "\n",
        "cat_df['cat_vec'] = cat_df['Category'].apply(cat_vec)"
      ],
      "metadata": {
        "id": "jPWRZ7DCR6bj"
      },
      "execution_count": 154,
      "outputs": []
    },
    {
      "cell_type": "code",
      "source": [
        "cat_df.to_csv('cat_vec.csv', index=False)"
      ],
      "metadata": {
        "id": "eIuWppW4SDzO"
      },
      "execution_count": 155,
      "outputs": []
    },
    {
      "cell_type": "code",
      "source": [
        "import nltk\n",
        "from nltk.corpus import stopwords\n",
        "from gensim.models import Word2Vec\n",
        "import string\n",
        "import numpy as np\n",
        "\n",
        "from time import time\n",
        "start = time()\n",
        "nltk.download('brown')\n",
        "from nltk.corpus import brown\n",
        "model = Word2Vec(brown.sents())\n",
        "print(time()-start)"
      ],
      "metadata": {
        "colab": {
          "base_uri": "https://localhost:8080/"
        },
        "id": "FpKKuVO2SK0C",
        "outputId": "08c58487-1313-4fae-8fb1-4cb52d9f7065"
      },
      "execution_count": 156,
      "outputs": [
        {
          "output_type": "stream",
          "name": "stderr",
          "text": [
            "[nltk_data] Downloading package brown to /root/nltk_data...\n",
            "[nltk_data]   Package brown is already up-to-date!\n"
          ]
        },
        {
          "output_type": "stream",
          "name": "stdout",
          "text": [
            "46.9407262802124\n"
          ]
        }
      ]
    },
    {
      "cell_type": "code",
      "source": [
        "def mean_vectorize(sent):\n",
        "    sent = ''.join([char.lower() for char in sent if char not in string.punctuation])\n",
        "    words = nltk.word_tokenize(sent)\n",
        "    stop_words = set(stopwords.words('english'))\n",
        "    words = [word for word in words if word.lower() not in stop_words]\n",
        "    vectors = [model.wv[word] for word in words if word in model.wv]\n",
        "\n",
        "    ret = np.mean(vectors, axis = 0)\n",
        "    # print(ret)\n",
        "    if np.isnan(ret).all():\n",
        "        return np.nan\n",
        "    else:\n",
        "        return list(ret)"
      ],
      "metadata": {
        "id": "SW2rgC67Uhny"
      },
      "execution_count": 157,
      "outputs": []
    },
    {
      "cell_type": "code",
      "source": [
        "nltk.download('punkt')\n",
        "nltk.download('stopwords')\n",
        "\n",
        "l=[]\n",
        "\n",
        "def desc_vect(sent):\n",
        "    if '|' in sent:\n",
        "        sent = sent[sent.index('|'):]\n",
        "    vect = mean_vectorize(sent)\n",
        "    return vect\n",
        "\n",
        "desc_df = df[['Uniq Id', 'About Product']]\n",
        "\n",
        "desc_df['desc_vec'] = np.array(desc_df['About Product'].apply(desc_vect))\n",
        "desc_df = desc_df.dropna(subset=['desc_vec'])\n",
        "# print(len(l))"
      ],
      "metadata": {
        "id": "eUEfrMhjQ96-",
        "colab": {
          "base_uri": "https://localhost:8080/"
        },
        "outputId": "fa9b6b65-d8f0-410e-f089-6ca643c1eecb"
      },
      "execution_count": 158,
      "outputs": [
        {
          "output_type": "stream",
          "name": "stderr",
          "text": [
            "[nltk_data] Downloading package punkt to /root/nltk_data...\n",
            "[nltk_data]   Package punkt is already up-to-date!\n",
            "[nltk_data] Downloading package stopwords to /root/nltk_data...\n",
            "[nltk_data]   Package stopwords is already up-to-date!\n"
          ]
        }
      ]
    },
    {
      "cell_type": "code",
      "source": [
        "desc_vects = dict(desc_df[[\"Uniq Id\", \"desc_vec\"]].values)\n",
        "# print(desc_vects[\"2c55cae269aebf53838484b0d7dd931a\"])\n",
        "# import json\n",
        "# with open('/content/desc_vects.json', 'w') as fp:\n",
        "#     json.dump(desc_vects, fp)"
      ],
      "metadata": {
        "id": "4WLaF5gQYGfQ"
      },
      "execution_count": 159,
      "outputs": []
    },
    {
      "cell_type": "code",
      "source": [
        "from sklearn.decomposition import PCA\n",
        "l = []\n",
        "def pca_vectorize(sent):\n",
        "    sent = ''.join([char.lower() for char in sent if char.isalpha() or char==' '])\n",
        "    words = nltk.word_tokenize(sent)\n",
        "    # print(len(model.wv[words[2]]))\n",
        "    vectors = np.array([model.wv[word] for word in words if word in model.wv])\n",
        "\n",
        "    if len(vectors)>3:\n",
        "        pca = PCA(n_components=3)\n",
        "        red_vect = pca.fit_transform(vectors.transpose())\n",
        "        if len(red_vect) != 100:\n",
        "            l.append(red_vect)\n",
        "    else:\n",
        "        red_vect = vectors.transpose()\n",
        "    return (red_vect.transpose())"
      ],
      "metadata": {
        "id": "oN9VOrZKWHq3"
      },
      "execution_count": 160,
      "outputs": []
    },
    {
      "cell_type": "code",
      "source": [
        "def warn(*args, **kwargs):\n",
        "    pass\n",
        "import warnings\n",
        "warnings.warn = warn\n",
        "\n",
        "def prod_vect(sent):\n",
        "    vect = pca_vectorize(sent)\n",
        "\n",
        "    # if len(vect) != 100:\n",
        "    #     print(len(vect))\n",
        "    if len(vect) > 1:\n",
        "        return np.mean(vect, axis=0)\n",
        "    elif len(vect) == 1:\n",
        "        if len(vect[0]) !=100:\n",
        "            print(len(vect[0]))\n",
        "        return vect[0]\n",
        "    else:\n",
        "        return np.nan\n",
        "\n",
        "prod_df = df[['Uniq Id', 'Product Name']]\n",
        "\n",
        "prod_df['prod_vec'] = prod_df['Product Name'].apply(prod_vect)\n",
        "prod_df = prod_df.dropna(subset=['prod_vec'])"
      ],
      "metadata": {
        "id": "TIbd2dq7WLIf"
      },
      "execution_count": 161,
      "outputs": []
    },
    {
      "cell_type": "code",
      "source": [
        "prod_vects = dict(prod_df[[\"Uniq Id\", \"prod_vec\"]].values)\n",
        "\n",
        "# import json\n",
        "# with open('/content/prod_vects.json', 'w') as fp:\n",
        "#     json.dump(prod_vects, fp)"
      ],
      "metadata": {
        "id": "yBCzWg_HWPUB"
      },
      "execution_count": 162,
      "outputs": []
    },
    {
      "cell_type": "markdown",
      "source": [
        "# KMeans check\n"
      ],
      "metadata": {
        "id": "zDF-iGtFhaws"
      }
    },
    {
      "cell_type": "code",
      "source": [
        "from sklearn.cluster import KMeans\n",
        "import matplotlib.pyplot as plt\n",
        "import sklearn\n",
        "sklearn.set_config(print_changed_only=False)\n",
        "from time import time\n",
        "start=time()\n",
        "def warn(*args, **kwargs):\n",
        "    pass\n",
        "import warnings\n",
        "warnings.warn = warn\n",
        "\n",
        "# Create a list of different k values to try\n",
        "k_values = range(1, 202)\n",
        "\n",
        "# Create an empty list to store the sum of squared errors (SSE) for each k\n",
        "sse = []\n",
        "\n",
        "# Loop through each k value\n",
        "for k in k_values:\n",
        "  # Create a KMeans model with the current k value\n",
        "  kmeans = KMeans(n_clusters=k)\n",
        "\n",
        "  # Fit the model to the data\n",
        "  kmeans.fit(list(data))\n",
        "\n",
        "  # Append the SSE for the current k value to the list\n",
        "  sse.append(kmeans.inertia_)\n",
        "\n",
        "  if k%20==1:\n",
        "    print(k, round(time()-start,2), \"seconds\")\n",
        "\n",
        "# Plot the SSE for each k value\n",
        "plt.plot(k_values, sse)\n",
        "plt.xlabel('Number of clusters (k)')\n",
        "plt.ylabel('Sum of squared errors (SSE)')\n",
        "plt.title('Elbow Method for KMeans Clustering')\n",
        "plt.show()\n"
      ],
      "metadata": {
        "colab": {
          "base_uri": "https://localhost:8080/",
          "height": 663
        },
        "id": "Nv4ttF0kQbRA",
        "outputId": "d6caad64-ba54-4919-cfee-6d8ee0ce6079"
      },
      "execution_count": null,
      "outputs": [
        {
          "output_type": "stream",
          "name": "stdout",
          "text": [
            "1 2.56 seconds\n",
            "21 127.69 seconds\n",
            "41 382.15 seconds\n",
            "61 772.78 seconds\n",
            "81 1316.67 seconds\n",
            "101 1991.95 seconds\n",
            "121 2795.15 seconds\n",
            "141 3715.83 seconds\n",
            "161 4753.19 seconds\n",
            "181 5832.9 seconds\n",
            "201 7028.93 seconds\n"
          ]
        },
        {
          "output_type": "display_data",
          "data": {
            "text/plain": [
              "<Figure size 640x480 with 1 Axes>"
            ],
            "image/png": "[encoded data removed]"
          },
          "metadata": {}
        }
      ]
    },
    {
      "cell_type": "code",
      "source": [
        "# Create a list of different k values to try\n",
        "k_values = range(21, 31)\n",
        "\n",
        "sse = []\n",
        "\n",
        "# Loop through each k value\n",
        "for k in k_values:\n",
        "  # Create a KMeans model with the current k value\n",
        "  kmeans = KMeans(n_clusters=k)\n",
        "\n",
        "  # Fit the model to the data\n",
        "  kmeans.fit(list(data))\n",
        "\n",
        "  # Append the SSE for the current k value to the list\n",
        "  sse.append(kmeans.inertia_)\n",
        "\n",
        "  if k%5==1:\n",
        "    print(k, round(time()-start,2), \"seconds\")\n",
        "\n",
        "# Plot the SSE for each k value\n",
        "plt.plot(k_values, sse)\n",
        "plt.xlabel('Number of clusters (k)')\n",
        "plt.ylabel('Sum of squared errors (SSE)')\n",
        "plt.title('Elbow Method for KMeans Clustering')\n",
        "plt.show()"
      ],
      "metadata": {
        "colab": {
          "base_uri": "https://localhost:8080/",
          "height": 507
        },
        "id": "IE5_8TVCBgGo",
        "outputId": "8cb7d822-2868-4c73-d6d5-ca53eb9e443b"
      },
      "execution_count": null,
      "outputs": [
        {
          "output_type": "stream",
          "name": "stdout",
          "text": [
            "21 356.69 seconds\n",
            "26 412.04 seconds\n"
          ]
        },
        {
          "output_type": "display_data",
          "data": {
            "text/plain": [
              "<Figure size 640x480 with 1 Axes>"
            ],
            "image/png": "[encoded data removed]"
          },
          "metadata": {}
        }
      ]
    },
    {
      "cell_type": "code",
      "source": [
        "k_values = range(80, 91)\n",
        "\n",
        "\n",
        "sse = []\n",
        "\n",
        "# Loop through each k value\n",
        "for k in k_values:\n",
        "  # Create a KMeans model with the current k value\n",
        "  kmeans = KMeans(n_clusters=k)\n",
        "\n",
        "  # Fit the model to the data\n",
        "  kmeans.fit(list(data))\n",
        "\n",
        "  # Append the SSE for the current k value to the list\n",
        "  sse.append(kmeans.inertia_)\n",
        "\n",
        "  if k%5==1:\n",
        "    print(k, round(time()-start,2), \"seconds\")\n",
        "\n",
        "# Plot the SSE for each k value\n",
        "plt.plot(k_values, sse)\n",
        "plt.xlabel('Number of clusters (k)')\n",
        "plt.ylabel('Sum of squared errors (SSE)')\n",
        "plt.title('Elbow Method for KMeans Clustering')\n",
        "plt.show()"
      ],
      "metadata": {
        "colab": {
          "base_uri": "https://localhost:8080/",
          "height": 507
        },
        "id": "FpqgEGBTUgZn",
        "outputId": "edadc8d9-d8a5-4c85-9981-3bf788553569"
      },
      "execution_count": null,
      "outputs": [
        {
          "output_type": "stream",
          "name": "stdout",
          "text": [
            "81 885.8 seconds\n",
            "86 1037.45 seconds\n"
          ]
        },
        {
          "output_type": "display_data",
          "data": {
            "text/plain": [
              "<Figure size 640x480 with 1 Axes>"
            ],
            "image/png": "[encoded data removed]"
          },
          "metadata": {}
        }
      ]
    },
    {
      "cell_type": "code",
      "source": [
        "# Create a list of different k values to try\n",
        "k_values = range(41, 51)\n",
        "\n",
        "sse = []\n",
        "\n",
        "# Loop through each k value\n",
        "for k in k_values:\n",
        "  # Create a KMeans model with the current k value\n",
        "  kmeans = KMeans(n_clusters=k)\n",
        "\n",
        "  # Fit the model to the data\n",
        "  kmeans.fit(list(data))\n",
        "\n",
        "  # Append the SSE for the current k value to the list\n",
        "  sse.append(kmeans.inertia_)\n",
        "\n",
        "  if k%5==1:\n",
        "    print(k, round(time()-start,2), \"seconds\")\n",
        "\n",
        "# Plot the SSE for each k value\n",
        "plt.plot(k_values, sse)\n",
        "plt.xlabel('Number of clusters (k)')\n",
        "plt.ylabel('Sum of squared errors (SSE)')\n",
        "plt.title('Elbow Method for KMeans Clustering')\n",
        "plt.show()"
      ],
      "metadata": {
        "colab": {
          "base_uri": "https://localhost:8080/",
          "height": 507
        },
        "outputId": "6b8a8b8f-b158-4994-a228-d310d3c34122",
        "id": "XJBTpoDtszE8"
      },
      "execution_count": null,
      "outputs": [
        {
          "output_type": "stream",
          "name": "stdout",
          "text": [
            "41 371.41 seconds\n",
            "46 450.89 seconds\n"
          ]
        },
        {
          "output_type": "display_data",
          "data": {
            "text/plain": [
              "<Figure size 640x480 with 1 Axes>"
            ],
            "image/png": "[encoded data removed]"
          },
          "metadata": {}
        }
      ]
    },
    {
      "cell_type": "code",
      "source": [],
      "metadata": {
        "id": "31rxnPELheVI"
      },
      "execution_count": null,
      "outputs": []
    },
    {
      "cell_type": "markdown",
      "source": [
        "# Forming clusters"
      ],
      "metadata": {
        "id": "s17LNL5Gheuo"
      }
    },
    {
      "cell_type": "code",
      "source": [
        "import numpy as np\n",
        "def sparse_vectorize(s):\n",
        "    s = s.split()\n",
        "    ret = [0]*1151\n",
        "    for i in s:\n",
        "        ret[int(i)] = 1\n",
        "    return ret\n",
        "\n",
        "data = cat_df[\"cat_vec\"].apply(sparse_vectorize)\n",
        "\n",
        "print(data)"
      ],
      "metadata": {
        "colab": {
          "base_uri": "https://localhost:8080/"
        },
        "id": "kHnAzDo9Dfs9",
        "outputId": "beb4dded-6414-4bc3-a0ad-c9f64988cc93"
      },
      "execution_count": 163,
      "outputs": [
        {
          "output_type": "stream",
          "name": "stdout",
          "text": [
            "0        [1, 1, 1, 1, 1, 1, 0, 0, 0, 0, 0, 0, 0, 0, 0, ...\n",
            "1        [0, 0, 0, 0, 0, 0, 1, 1, 1, 0, 0, 0, 0, 0, 0, ...\n",
            "2        [0, 0, 0, 0, 0, 0, 1, 0, 0, 1, 1, 0, 0, 0, 0, ...\n",
            "3        [0, 0, 0, 0, 0, 0, 1, 0, 0, 0, 0, 1, 1, 1, 1, ...\n",
            "4        [0, 0, 0, 0, 0, 0, 1, 0, 0, 0, 0, 0, 0, 0, 0, ...\n",
            "                               ...                        \n",
            "9995     [0, 0, 0, 0, 0, 0, 0, 0, 0, 0, 0, 0, 0, 0, 0, ...\n",
            "9996     [0, 0, 0, 0, 0, 0, 1, 0, 0, 0, 0, 0, 0, 0, 0, ...\n",
            "9998     [0, 0, 0, 0, 0, 0, 1, 0, 0, 1, 0, 0, 0, 0, 0, ...\n",
            "9999     [0, 0, 0, 0, 0, 0, 0, 0, 0, 0, 0, 0, 0, 0, 0, ...\n",
            "10001    [0, 0, 0, 0, 0, 0, 0, 0, 0, 0, 0, 0, 0, 0, 0, ...\n",
            "Name: cat_vec, Length: 8920, dtype: object\n"
          ]
        }
      ]
    },
    {
      "cell_type": "code",
      "source": [
        "from sklearn.cluster import KMeans\n",
        "import pandas as pd\n",
        "\n",
        "\n",
        "# k=46\n",
        "# Create the KMeans model\n",
        "kmeans = KMeans(n_clusters=46, random_state=42)\n",
        "\n",
        "# Fit the model to the data\n",
        "kmeans.fit(list(data))\n",
        "\n",
        "# Save the cluster labels to a CSV file\n",
        "clus_df = cat_df.copy()\n",
        "clus_df[\"cluster no.\"] = kmeans.labels_\n",
        "clus_df.to_csv('cluster_labels.csv', index=False)\n",
        "# pd.DataFrame(kmeans.labels_).to_csv('cluster_labels.csv', index=False)"
      ],
      "metadata": {
        "id": "_bNVMT5xhoZq"
      },
      "execution_count": 164,
      "outputs": []
    },
    {
      "cell_type": "code",
      "source": [
        "# clus_df\n",
        "# desc_vects\n",
        "# prod_vects\n",
        "\n",
        "from sklearn.metrics.pairwise import cosine_similarity\n",
        "\n",
        "def oos_sub(id, dicti=desc_vects):\n",
        "    dic = dicti.copy()\n",
        "    final_df = clus_df.copy()\n",
        "    final_df = final_df.merge(desc_df, on=[\"Uniq Id\"])\n",
        "    final_df = final_df.merge(prod_df, on=[\"Uniq Id\"])\n",
        "    temp_df = final_df.loc[final_df[\"cluster no.\"]==int(final_df.iloc[id][\"cluster no.\"])]\n",
        "\n",
        "    temp_id = final_df.iloc[id][\"Uniq Id\"]\n",
        "    # print(dic[str(temp_id)])\n",
        "    temp_name = str(final_df.iloc[id][\"Product Name\"])\n",
        "\n",
        "    temp_ids = list(temp_df[\"Uniq Id\"])\n",
        "    temp_names = list(temp_df[\"Product Name\"])\n",
        "    # print(temp_names)\n",
        "\n",
        "    if str(temp_id) not in dic:\n",
        "        return \"Item not registered\", \"Item not registered\", \"Item not registered\"\n",
        "    else:\n",
        "        temp_vec = np.array(dic[str(temp_id)])\n",
        "        total_vec = []\n",
        "        for i in temp_ids:\n",
        "            if i in dic:\n",
        "                total_vec.append(np.array(dic[str(i)]))\n",
        "\n",
        "        # ind = temp_names.index(temp_name)\n",
        "\n",
        "        similarities = cosine_similarity(temp_vec.reshape(1, -1), total_vec)[0]\n",
        "\n",
        "        # Sort the similarities in descending order.\n",
        "        sorted_indices = np.argsort(similarities)[::-1]\n",
        "        # print(sorted_indices)\n",
        "\n",
        "        # Get the top N most similar words and their cosine similarity scores.\n",
        "        top_n_words = [temp_names[i] for i in sorted_indices[1:11]]\n",
        "        top_n_ids = [temp_ids[i] for i in sorted_indices[1:11]]\n",
        "        top_n_vectors = [total_vec[i][0] for i in sorted_indices[1:11]]\n",
        "\n",
        "        return (temp_name, temp_id, temp_vec), (top_n_words, top_n_ids, top_n_vectors)\n",
        "\n"
      ],
      "metadata": {
        "id": "TGv-2Vmu8rSM"
      },
      "execution_count": 165,
      "outputs": []
    },
    {
      "cell_type": "code",
      "source": [
        "def print_subs(id, dicti=desc_vects):\n",
        "    subs = oos_sub(id, dicti)\n",
        "    print(\"Out of Stock:\")\n",
        "    print(subs[0][0], \"\\n\", \"\\n\")\n",
        "    print(\"Top Recommendations:\", \"\\n\")\n",
        "    print(\"\\n\".join(subs[1][0]))\n"
      ],
      "metadata": {
        "id": "b-rLsg7C0nD4"
      },
      "execution_count": 166,
      "outputs": []
    },
    {
      "cell_type": "markdown",
      "source": [
        "# Querying"
      ],
      "metadata": {
        "id": "ji2lJftknk3F"
      }
    },
    {
      "cell_type": "markdown",
      "source": [
        "## Product Name"
      ],
      "metadata": {
        "id": "eOQgnWlMnXFa"
      }
    },
    {
      "cell_type": "code",
      "source": [
        "print_subs(270, dicti=prod_vects) # enter an id number from 0 to 8700"
      ],
      "metadata": {
        "colab": {
          "base_uri": "https://localhost:8080/"
        },
        "id": "9D0BTx2n1Lzx",
        "outputId": "346f16cf-0f56-4c46-a608-8aa7df325a06"
      },
      "execution_count": 169,
      "outputs": [
        {
          "output_type": "stream",
          "name": "stdout",
          "text": [
            "Out of Stock:\n",
            "Melissa & Doug Children’s Book - Float-Alongs: Tiny Tugboats (Bath Book + 3 Floating Tugboat Toys, Great Gift for Girls and Boys - Best for Babies and Toddlers, 4, 5, 9 Month Olds, 1 and 2 Year Olds) \n",
            " \n",
            "\n",
            "Top Recommendations: \n",
            "\n",
            "ADI American Dawn Tub Time Tots Kids Hooded Bath Wrap, 2Piece Set, Bear\n",
            "Award Winning Hape Stacking Veggies Kid's Wooden Skill Learning Game\n",
            "Janod Spirit Solid Cherry Wood Motorcycle & Side Car Push Toy with Child-Safe Water-Based Lacquer, Rubber Wheels, & Wobbly Philip Dog Driver for Ages 18 Months+\n",
            "HandiThings DP Dolphin Playground Toy, Red, Blue, Yellow, One Size\n",
            "Sammons Preston Multi-Colored Beaded Pegs, 300 Multi-Colored Pegs, Cognitive Exercise Game for Training Coordination, Perception, and Motor Sensory Control, Ideal for Young Children\n",
            "Learning Resources Smart Snacks Shape Sorting Cupcakes & Smart Snacks Rainbow Color Cones, Color Identification, Fine Motor Toy, Ages 2+\n",
            "Super Wings - Transforming Bello Toy Figure | Plane | Bot | 5” Scale\n",
            "Baby GUND Toothpick Sloth Rattle Plush Stuffed Animal 7.5\", Taupe\n",
            "Playskool Heroes Galactic Heroes Star Wars Chewbacca\n",
            "Sassy Harbor Town Rescue Set\n"
          ]
        }
      ]
    },
    {
      "cell_type": "markdown",
      "source": [
        "## Product Description"
      ],
      "metadata": {
        "id": "mQlnadECnZ6i"
      }
    },
    {
      "cell_type": "code",
      "source": [
        "print_subs(270, dicti=desc_vects) # enter an id number from 0 to 8700"
      ],
      "metadata": {
        "colab": {
          "base_uri": "https://localhost:8080/"
        },
        "id": "s_MW2RQF1n9l",
        "outputId": "9982428a-4ebc-4c27-a130-c11f35d7e9ff"
      },
      "execution_count": 170,
      "outputs": [
        {
          "output_type": "stream",
          "name": "stdout",
          "text": [
            "Out of Stock:\n",
            "Melissa & Doug Children’s Book - Float-Alongs: Tiny Tugboats (Bath Book + 3 Floating Tugboat Toys, Great Gift for Girls and Boys - Best for Babies and Toddlers, 4, 5, 9 Month Olds, 1 and 2 Year Olds) \n",
            " \n",
            "\n",
            "Top Recommendations: \n",
            "\n",
            "The World of Eric Carle, Duckie Bath Book and Squirty Toy Set\n",
            "Alex Little Hands String and Beep Kids Toddler Art and Craft Activity\n",
            "Bright Starts Sesame Street Snack & Stroll Cookie Monster Wooden Pull Toy, Ages 12-36 Months\n",
            "Melissa & Doug K’s Kids Whose Tail? 8-Page Soft Activity Book, The Original (Great Gift for Girls and Boys - Best for Babies and Toddlers, All Ages)\n",
            "Baby Einstein Magic Touch Xylophone Wooden Musical Toy, 12 Months +\n",
            "Singing Machine Kids Candy House Portable Bluetooth Sing-Along Speaker with LED Lit Microphone and Rooftop (SMK470)\n",
            "Folkmanis Mini Sitting Frog\n",
            "Hape Twist and Turnables Wooden Building Block Learning Set\n",
            "John Deere 15\" Big Scoop Dump Truck Sandbox Toy with Sand Tools\n",
            "Alex Discover Button Art Activity Set Kids Art and Craft Activity\n"
          ]
        }
      ]
    },
    {
      "cell_type": "code",
      "source": [
        "subs = oos_sub(321, dicti=prod_vects)\n",
        "print(\"\\n\".join(subs[0]))"
      ],
      "metadata": {
        "colab": {
          "base_uri": "https://localhost:8080/"
        },
        "id": "OPnzAfzRHyxB",
        "outputId": "5a24a0b9-53f4-4bd8-c9fc-e9e3240b88e0"
      },
      "execution_count": 108,
      "outputs": [
        {
          "output_type": "stream",
          "name": "stdout",
          "text": [
            "MasterPieces Hershey's Shaped Collection Jigsaw Puzzle, Reese's, 500 Pieces\n",
            "EuroGraphics Seattle City Skyline Puzzle (1000-Piece)\n",
            "Ceaco Disney Collections Vintage Buttons Jigsaw Puzzle, 750 Pieces\n",
            "Buffalo Games - Adorable Animals - Picnic Raiders - 300 Large Piece Jigsaw Puzzle\n",
            "Bigjigs Toys BJ756 Inset Puzzle Numbers\n",
            "BePuzzled Mickey/Minnie Gearshift Puzzle (4 Pieces)\n",
            "Ceaco Disney Descendants Mal & Evie Jigsaw Puzzle, 250 Pieces\n",
            "Buffalo Games - Darrell Bush - Coastal Twilight - 1000 Piece Jigsaw Puzzle\n",
            "MasterPieces NFL Houston Texans Stadium Panoramic Jigsaw Puzzle, 1000 Pieces\n",
            "Avanti - Kitten Bouquet Puzzle - 300 Pieces\n"
          ]
        }
      ]
    },
    {
      "cell_type": "code",
      "source": [
        "subs = oos_sub(69)\n",
        "print(\"\\n\".join(subs[0]))"
      ],
      "metadata": {
        "colab": {
          "base_uri": "https://localhost:8080/"
        },
        "id": "kPzE5oYODkli",
        "outputId": "27031fac-3f2f-409d-a327-109c092cbe64"
      },
      "execution_count": 107,
      "outputs": [
        {
          "output_type": "stream",
          "name": "stdout",
          "text": [
            "Nat and Jules Standing Small Corgi Dog Children's Plush Stuffed Animal Toy\n",
            "DC Super Hero Girls: Supergirl Mini Plush Dolls\n",
            "Happy Trails Interactive Plush Puppy Toy– Battery Operated Dog That Walks, Barks & Does Back Flips, Soft & Snuggly Fur, Stuffed Animal Robot\n",
            "Linzy Plush 16\" Yellow Aissa Doll Soft Rag Doll\n",
            "The Puppet Company - Golf Club Covers - Elephant\n",
            "Wild Republic Red Panda Plush, Stuffed Animal, Plush Toy, Kids Gifts, Zoo, 15\"\n",
            "Mary Meyer Super Soft Stuffed Animal Security Blanket, Fizzy Frog, 13 x 13-Inches\n",
            "Kaloo Tendresse My First Fabric Doll Eliott K 10” Soft Plush Figure in White Shirt, Blue Jeans, and Red Hat with Baby Safe Embroidered Face Machine Washable for Ages 0+\n",
            "KIDS PREFERRED Peter Rabbit Stuffed Animal Plush Bunny, 21 Inches\n",
            "Wild Republic Common Langur w/baby Plush, Monkey Stuffed Animal, Plush Toy, Gifts for Kids, Hanging 20 Inches\n"
          ]
        }
      ]
    },
    {
      "cell_type": "code",
      "source": [
        "print((err[-1297:]))"
      ],
      "metadata": {
        "colab": {
          "base_uri": "https://localhost:8080/"
        },
        "id": "AtT8-c1UY6bL",
        "outputId": "38899639-e172-4303-da57-705e27d7d22f"
      },
      "execution_count": 103,
      "outputs": [
        {
          "output_type": "stream",
          "name": "stdout",
          "text": [
            "[8703, 8704, 8705, 8706, 8707, 8708, 8709, 8710, 8711, 8712, 8713, 8714, 8715, 8716, 8717, 8718, 8719, 8720, 8721, 8722, 8723, 8724, 8725, 8726, 8727, 8728, 8729, 8730, 8731, 8732, 8733, 8734, 8735, 8736, 8737, 8738, 8739, 8740, 8741, 8742, 8743, 8744, 8745, 8746, 8747, 8748, 8749, 8750, 8751, 8752, 8753, 8754, 8755, 8756, 8757, 8758, 8759, 8760, 8761, 8762, 8763, 8764, 8765, 8766, 8767, 8768, 8769, 8770, 8771, 8772, 8773, 8774, 8775, 8776, 8777, 8778, 8779, 8780, 8781, 8782, 8783, 8784, 8785, 8786, 8787, 8788, 8789, 8790, 8791, 8792, 8793, 8794, 8795, 8796, 8797, 8798, 8799, 8800, 8801, 8802, 8803, 8804, 8805, 8806, 8807, 8808, 8809, 8810, 8811, 8812, 8813, 8814, 8815, 8816, 8817, 8818, 8819, 8820, 8821, 8822, 8823, 8824, 8825, 8826, 8827, 8828, 8829, 8830, 8831, 8832, 8833, 8834, 8835, 8836, 8837, 8838, 8839, 8840, 8841, 8842, 8843, 8844, 8845, 8846, 8847, 8848, 8849, 8850, 8851, 8852, 8853, 8854, 8855, 8856, 8857, 8858, 8859, 8860, 8861, 8862, 8863, 8864, 8865, 8866, 8867, 8868, 8869, 8870, 8871, 8872, 8873, 8874, 8875, 8876, 8877, 8878, 8879, 8880, 8881, 8882, 8883, 8884, 8885, 8886, 8887, 8888, 8889, 8890, 8891, 8892, 8893, 8894, 8895, 8896, 8897, 8898, 8899, 8900, 8901, 8902, 8903, 8904, 8905, 8906, 8907, 8908, 8909, 8910, 8911, 8912, 8913, 8914, 8915, 8916, 8917, 8918, 8919, 8920, 8921, 8922, 8923, 8924, 8925, 8926, 8927, 8928, 8929, 8930, 8931, 8932, 8933, 8934, 8935, 8936, 8937, 8938, 8939, 8940, 8941, 8942, 8943, 8944, 8945, 8946, 8947, 8948, 8949, 8950, 8951, 8952, 8953, 8954, 8955, 8956, 8957, 8958, 8959, 8960, 8961, 8962, 8963, 8964, 8965, 8966, 8967, 8968, 8969, 8970, 8971, 8972, 8973, 8974, 8975, 8976, 8977, 8978, 8979, 8980, 8981, 8982, 8983, 8984, 8985, 8986, 8987, 8988, 8989, 8990, 8991, 8992, 8993, 8994, 8995, 8996, 8997, 8998, 8999, 9000, 9001, 9002, 9003, 9004, 9005, 9006, 9007, 9008, 9009, 9010, 9011, 9012, 9013, 9014, 9015, 9016, 9017, 9018, 9019, 9020, 9021, 9022, 9023, 9024, 9025, 9026, 9027, 9028, 9029, 9030, 9031, 9032, 9033, 9034, 9035, 9036, 9037, 9038, 9039, 9040, 9041, 9042, 9043, 9044, 9045, 9046, 9047, 9048, 9049, 9050, 9051, 9052, 9053, 9054, 9055, 9056, 9057, 9058, 9059, 9060, 9061, 9062, 9063, 9064, 9065, 9066, 9067, 9068, 9069, 9070, 9071, 9072, 9073, 9074, 9075, 9076, 9077, 9078, 9079, 9080, 9081, 9082, 9083, 9084, 9085, 9086, 9087, 9088, 9089, 9090, 9091, 9092, 9093, 9094, 9095, 9096, 9097, 9098, 9099, 9100, 9101, 9102, 9103, 9104, 9105, 9106, 9107, 9108, 9109, 9110, 9111, 9112, 9113, 9114, 9115, 9116, 9117, 9118, 9119, 9120, 9121, 9122, 9123, 9124, 9125, 9126, 9127, 9128, 9129, 9130, 9131, 9132, 9133, 9134, 9135, 9136, 9137, 9138, 9139, 9140, 9141, 9142, 9143, 9144, 9145, 9146, 9147, 9148, 9149, 9150, 9151, 9152, 9153, 9154, 9155, 9156, 9157, 9158, 9159, 9160, 9161, 9162, 9163, 9164, 9165, 9166, 9167, 9168, 9169, 9170, 9171, 9172, 9173, 9174, 9175, 9176, 9177, 9178, 9179, 9180, 9181, 9182, 9183, 9184, 9185, 9186, 9187, 9188, 9189, 9190, 9191, 9192, 9193, 9194, 9195, 9196, 9197, 9198, 9199, 9200, 9201, 9202, 9203, 9204, 9205, 9206, 9207, 9208, 9209, 9210, 9211, 9212, 9213, 9214, 9215, 9216, 9217, 9218, 9219, 9220, 9221, 9222, 9223, 9224, 9225, 9226, 9227, 9228, 9229, 9230, 9231, 9232, 9233, 9234, 9235, 9236, 9237, 9238, 9239, 9240, 9241, 9242, 9243, 9244, 9245, 9246, 9247, 9248, 9249, 9250, 9251, 9252, 9253, 9254, 9255, 9256, 9257, 9258, 9259, 9260, 9261, 9262, 9263, 9264, 9265, 9266, 9267, 9268, 9269, 9270, 9271, 9272, 9273, 9274, 9275, 9276, 9277, 9278, 9279, 9280, 9281, 9282, 9283, 9284, 9285, 9286, 9287, 9288, 9289, 9290, 9291, 9292, 9293, 9294, 9295, 9296, 9297, 9298, 9299, 9300, 9301, 9302, 9303, 9304, 9305, 9306, 9307, 9308, 9309, 9310, 9311, 9312, 9313, 9314, 9315, 9316, 9317, 9318, 9319, 9320, 9321, 9322, 9323, 9324, 9325, 9326, 9327, 9328, 9329, 9330, 9331, 9332, 9333, 9334, 9335, 9336, 9337, 9338, 9339, 9340, 9341, 9342, 9343, 9344, 9345, 9346, 9347, 9348, 9349, 9350, 9351, 9352, 9353, 9354, 9355, 9356, 9357, 9358, 9359, 9360, 9361, 9362, 9363, 9364, 9365, 9366, 9367, 9368, 9369, 9370, 9371, 9372, 9373, 9374, 9375, 9376, 9377, 9378, 9379, 9380, 9381, 9382, 9383, 9384, 9385, 9386, 9387, 9388, 9389, 9390, 9391, 9392, 9393, 9394, 9395, 9396, 9397, 9398, 9399, 9400, 9401, 9402, 9403, 9404, 9405, 9406, 9407, 9408, 9409, 9410, 9411, 9412, 9413, 9414, 9415, 9416, 9417, 9418, 9419, 9420, 9421, 9422, 9423, 9424, 9425, 9426, 9427, 9428, 9429, 9430, 9431, 9432, 9433, 9434, 9435, 9436, 9437, 9438, 9439, 9440, 9441, 9442, 9443, 9444, 9445, 9446, 9447, 9448, 9449, 9450, 9451, 9452, 9453, 9454, 9455, 9456, 9457, 9458, 9459, 9460, 9461, 9462, 9463, 9464, 9465, 9466, 9467, 9468, 9469, 9470, 9471, 9472, 9473, 9474, 9475, 9476, 9477, 9478, 9479, 9480, 9481, 9482, 9483, 9484, 9485, 9486, 9487, 9488, 9489, 9490, 9491, 9492, 9493, 9494, 9495, 9496, 9497, 9498, 9499, 9500, 9501, 9502, 9503, 9504, 9505, 9506, 9507, 9508, 9509, 9510, 9511, 9512, 9513, 9514, 9515, 9516, 9517, 9518, 9519, 9520, 9521, 9522, 9523, 9524, 9525, 9526, 9527, 9528, 9529, 9530, 9531, 9532, 9533, 9534, 9535, 9536, 9537, 9538, 9539, 9540, 9541, 9542, 9543, 9544, 9545, 9546, 9547, 9548, 9549, 9550, 9551, 9552, 9553, 9554, 9555, 9556, 9557, 9558, 9559, 9560, 9561, 9562, 9563, 9564, 9565, 9566, 9567, 9568, 9569, 9570, 9571, 9572, 9573, 9574, 9575, 9576, 9577, 9578, 9579, 9580, 9581, 9582, 9583, 9584, 9585, 9586, 9587, 9588, 9589, 9590, 9591, 9592, 9593, 9594, 9595, 9596, 9597, 9598, 9599, 9600, 9601, 9602, 9603, 9604, 9605, 9606, 9607, 9608, 9609, 9610, 9611, 9612, 9613, 9614, 9615, 9616, 9617, 9618, 9619, 9620, 9621, 9622, 9623, 9624, 9625, 9626, 9627, 9628, 9629, 9630, 9631, 9632, 9633, 9634, 9635, 9636, 9637, 9638, 9639, 9640, 9641, 9642, 9643, 9644, 9645, 9646, 9647, 9648, 9649, 9650, 9651, 9652, 9653, 9654, 9655, 9656, 9657, 9658, 9659, 9660, 9661, 9662, 9663, 9664, 9665, 9666, 9667, 9668, 9669, 9670, 9671, 9672, 9673, 9674, 9675, 9676, 9677, 9678, 9679, 9680, 9681, 9682, 9683, 9684, 9685, 9686, 9687, 9688, 9689, 9690, 9691, 9692, 9693, 9694, 9695, 9696, 9697, 9698, 9699, 9700, 9701, 9702, 9703, 9704, 9705, 9706, 9707, 9708, 9709, 9710, 9711, 9712, 9713, 9714, 9715, 9716, 9717, 9718, 9719, 9720, 9721, 9722, 9723, 9724, 9725, 9726, 9727, 9728, 9729, 9730, 9731, 9732, 9733, 9734, 9735, 9736, 9737, 9738, 9739, 9740, 9741, 9742, 9743, 9744, 9745, 9746, 9747, 9748, 9749, 9750, 9751, 9752, 9753, 9754, 9755, 9756, 9757, 9758, 9759, 9760, 9761, 9762, 9763, 9764, 9765, 9766, 9767, 9768, 9769, 9770, 9771, 9772, 9773, 9774, 9775, 9776, 9777, 9778, 9779, 9780, 9781, 9782, 9783, 9784, 9785, 9786, 9787, 9788, 9789, 9790, 9791, 9792, 9793, 9794, 9795, 9796, 9797, 9798, 9799, 9800, 9801, 9802, 9803, 9804, 9805, 9806, 9807, 9808, 9809, 9810, 9811, 9812, 9813, 9814, 9815, 9816, 9817, 9818, 9819, 9820, 9821, 9822, 9823, 9824, 9825, 9826, 9827, 9828, 9829, 9830, 9831, 9832, 9833, 9834, 9835, 9836, 9837, 9838, 9839, 9840, 9841, 9842, 9843, 9844, 9845, 9846, 9847, 9848, 9849, 9850, 9851, 9852, 9853, 9854, 9855, 9856, 9857, 9858, 9859, 9860, 9861, 9862, 9863, 9864, 9865, 9866, 9867, 9868, 9869, 9870, 9871, 9872, 9873, 9874, 9875, 9876, 9877, 9878, 9879, 9880, 9881, 9882, 9883, 9884, 9885, 9886, 9887, 9888, 9889, 9890, 9891, 9892, 9893, 9894, 9895, 9896, 9897, 9898, 9899, 9900, 9901, 9902, 9903, 9904, 9905, 9906, 9907, 9908, 9909, 9910, 9911, 9912, 9913, 9914, 9915, 9916, 9917, 9918, 9919, 9920, 9921, 9922, 9923, 9924, 9925, 9926, 9927, 9928, 9929, 9930, 9931, 9932, 9933, 9934, 9935, 9936, 9937, 9938, 9939, 9940, 9941, 9942, 9943, 9944, 9945, 9946, 9947, 9948, 9949, 9950, 9951, 9952, 9953, 9954, 9955, 9956, 9957, 9958, 9959, 9960, 9961, 9962, 9963, 9964, 9965, 9966, 9967, 9968, 9969, 9970, 9971, 9972, 9973, 9974, 9975, 9976, 9977, 9978, 9979, 9980, 9981, 9982, 9983, 9984, 9985, 9986, 9987, 9988, 9989, 9990, 9991, 9992, 9993, 9994, 9995, 9996, 9997, 9998, 9999]\n"
          ]
        }
      ]
    }
  ]
}